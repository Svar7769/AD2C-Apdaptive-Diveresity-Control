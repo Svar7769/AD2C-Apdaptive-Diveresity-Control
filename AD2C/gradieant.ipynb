{
 "cells": [
  {
   "cell_type": "code",
   "execution_count": null,
   "id": "11ed0fce",
   "metadata": {},
   "outputs": [
    {
     "name": "stderr",
     "output_type": "stream",
     "text": [
      "/home/svarp/Desktop/Projects/MARL-BehavioralDiversity/.venv/lib/python3.9/site-packages/skopt/optimizer/optimizer.py:517: UserWarning: The objective has been evaluated at point [5.0] before, using random point [2.739934809021525]\n",
      "  warnings.warn(\n",
      "/home/svarp/Desktop/Projects/MARL-BehavioralDiversity/.venv/lib/python3.9/site-packages/skopt/optimizer/optimizer.py:517: UserWarning: The objective has been evaluated at point [-5.0] before, using random point [1.577229258115615]\n",
      "  warnings.warn(\n",
      "/home/svarp/Desktop/Projects/MARL-BehavioralDiversity/.venv/lib/python3.9/site-packages/skopt/optimizer/optimizer.py:517: UserWarning: The objective has been evaluated at point [5.0] before, using random point [3.8631360861983843]\n",
      "  warnings.warn(\n",
      "/home/svarp/Desktop/Projects/MARL-BehavioralDiversity/.venv/lib/python3.9/site-packages/skopt/optimizer/optimizer.py:517: UserWarning: The objective has been evaluated at point [-5.0] before, using random point [-3.3179997766777456]\n",
      "  warnings.warn(\n"
     ]
    },
    {
     "name": "stdout",
     "output_type": "stream",
     "text": [
      "Optimal x: 5.0000\n",
      "Maximum y: 2.2969\n"
     ]
    }
   ],
   "source": [
    "import numpy as np\n",
    "import matplotlib.pyplot as plt\n",
    "from skopt import gp_minimize\n",
    "from skopt.space import Real\n",
    "from skopt.utils import use_named_args\n",
    "\n",
    "# Define the function we want to maximize.\n",
    "# Note: skopt's gp_minimize finds the minimum, so we return the negative\n",
    "# of our function to maximize it.\n",
    "def f(x):\n",
    "    return - (np.sin(x[0]) * x[0] + np.cos(x[0]) * x[0]**2)\n",
    "\n",
    "# Define the search space for the input 'x'.\n",
    "# We're searching for x in the range of -5 to 5.\n",
    "search_space = [Real(-5.0, 5.0, name='x')]\n",
    "\n",
    "# Run Bayesian optimization.\n",
    "# n_calls is the total number of function evaluations.\n",
    "# n_random_starts is the number of initial random points to sample.\n",
    "result = gp_minimize(\n",
    "    func=f,\n",
    "    dimensions=search_space,\n",
    "    n_calls=30,\n",
    "    n_random_starts=5,\n",
    "    random_state=123\n",
    ")\n",
    "\n",
    "# Create a range of x values to plot the true function.\n",
    "x_values = np.linspace(-5, 5, 1000)\n",
    "# Calculate the y values (negated for maximization) for plotting.\n",
    "y_values = - (np.sin(x_values) * x_values + np.cos(x_values) * x_values**2)\n",
    "\n",
    "# Get the sampled points from the optimization process.\n",
    "sampled_x = result.x_iters\n",
    "sampled_y = [-val for val in result.func_vals]\n",
    "\n",
    "# Get the best-found point.\n",
    "best_x = result.x[0]\n",
    "best_y = -result.fun\n",
    "\n",
    "# Create the plot.\n",
    "plt.figure(figsize=(10, 6))\n",
    "\n",
    "# Plot the true objective function.\n",
    "plt.plot(x_values, y_values, label='Objective Function', color='blue')\n",
    "\n",
    "# Plot the sampled points.\n",
    "plt.scatter(sampled_x, sampled_y, label='Sampled Points', color='red', alpha=0.6, zorder=2)\n",
    "\n",
    "# Plot the best-found point.\n",
    "plt.scatter(best_x, best_y, label='Best Found Point', color='green', marker='*', s=200, zorder=3)\n",
    "\n",
    "# Add labels and title.\n",
    "plt.title('Bayesian Optimization Process', fontsize=16)\n",
    "plt.xlabel('x', fontsize=12)\n",
    "plt.ylabel('y', fontsize=12)\n",
    "plt.legend(fontsize=10)\n",
    "plt.grid(True)\n",
    "plt.show()"
   ]
  },
  {
   "cell_type": "code",
   "execution_count": null,
   "id": "f2b94229",
   "metadata": {},
   "outputs": [],
   "source": []
  }
 ],
 "metadata": {
  "kernelspec": {
   "display_name": ".venv",
   "language": "python",
   "name": "python3"
  },
  "language_info": {
   "codemirror_mode": {
    "name": "ipython",
    "version": 3
   },
   "file_extension": ".py",
   "mimetype": "text/x-python",
   "name": "python",
   "nbconvert_exporter": "python",
   "pygments_lexer": "ipython3",
   "version": "3.9.23"
  }
 },
 "nbformat": 4,
 "nbformat_minor": 5
}
